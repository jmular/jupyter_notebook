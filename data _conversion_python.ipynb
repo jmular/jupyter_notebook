{
 "cells": [
  {
   "cell_type": "markdown",
   "id": "c4c1620a-27c8-4896-a426-42449e1637aa",
   "metadata": {},
   "source": [
    "##Typecasting and Data Conversion\n",
    "\n",
    "Topics: Data Types, Data Conversion, Typecasting in Dataframes"
   ]
  },
  {
   "cell_type": "markdown",
   "id": "01c8f170-ef81-40cb-b3a2-b7705ec2d3b9",
   "metadata": {},
   "source": [
    "#Data Types\n",
    "    \n",
    "Text Type:\t**str** (short for 'string', string of text or numbers) \n",
    "Numeric Types:\t\n",
    "    **int** (short for 'integers', aka whole numbers), \n",
    "    **float** (includes things such as decimals), \n",
    "    **complex** (includes combination of numbers and letters, ex: 6k)\n",
    "Sequence Types:\tlist, tuple, range\n",
    "Mapping Type:\tdict\n",
    "Set Types:\tset, frozenset\n",
    "Boolean Type:\tbool\n",
    "Binary Types:\tbytes, bytearray, memoryview\n",
    " None Type:\tNoneType\n",
    "    \n",
    "For this we will mainly be working with str, int, and float but I will be making more tutorials on others in the future"
   ]
  },
  {
   "cell_type": "code",
   "execution_count": 12,
   "id": "2b40b814-ff84-4a1b-a6a5-a5d4d2883539",
   "metadata": {},
   "outputs": [
    {
     "data": {
      "text/plain": [
       "str"
      ]
     },
     "execution_count": 12,
     "metadata": {},
     "output_type": "execute_result"
    }
   ],
   "source": [
    "#the type() function tells us what class (data type) an item is:\n",
    "type(\"R\") #str"
   ]
  },
  {
   "cell_type": "code",
   "execution_count": 13,
   "id": "3608de06-7638-460b-9b76-40952d4388b4",
   "metadata": {
    "tags": []
   },
   "outputs": [
    {
     "data": {
      "text/plain": [
       "int"
      ]
     },
     "execution_count": 13,
     "metadata": {},
     "output_type": "execute_result"
    }
   ],
   "source": [
    "type(2) #int"
   ]
  },
  {
   "cell_type": "code",
   "execution_count": 14,
   "id": "fcac7be8-3f97-4f43-b026-28b024251641",
   "metadata": {
    "tags": []
   },
   "outputs": [
    {
     "data": {
      "text/plain": [
       "float"
      ]
     },
     "execution_count": 14,
     "metadata": {},
     "output_type": "execute_result"
    }
   ],
   "source": [
    "type(2.5) #float"
   ]
  },
  {
   "cell_type": "markdown",
   "id": "4d1821af-1e59-46c2-aafa-c459e7096651",
   "metadata": {},
   "source": [
    "#Typecasting/ Data Conversion\n",
    "- the process of casting/changing data types\n",
    "\n",
    "\n",
    "##Types of Data Conversion\n",
    "\n",
    "**Implicit Conversion**- automatically converts one data type to another without the user involvement\n",
    "- For example: Python will automaticaly in the background change integers to floats in equations"
   ]
  },
  {
   "cell_type": "code",
   "execution_count": 1,
   "id": "1142c86d-2a30-4602-96d9-22ab9a1c6cea",
   "metadata": {
    "tags": []
   },
   "outputs": [
    {
     "name": "stdout",
     "output_type": "stream",
     "text": [
      "4.5\n"
     ]
    }
   ],
   "source": [
    "print(2+2.5)"
   ]
  },
  {
   "cell_type": "markdown",
   "id": "3c3fe6d2-a134-4a00-aa78-00767c14e0eb",
   "metadata": {},
   "source": [
    "**Explicit Conversion**- users convert the data type of an object to required data type\n",
    "- Using predefined functions, INT() FLOAT(), and STR()\n",
    "- For example: When trying to have an expression show up as part of the output you can use '' and str() function to showcase"
   ]
  },
  {
   "cell_type": "code",
   "execution_count": 1,
   "id": "f835f4d8-b4d9-4428-98db-83c04f09ffd0",
   "metadata": {
    "tags": []
   },
   "outputs": [
    {
     "data": {
      "text/plain": [
       "'65'"
      ]
     },
     "execution_count": 1,
     "metadata": {},
     "output_type": "execute_result"
    }
   ],
   "source": [
    "str(65)"
   ]
  },
  {
   "cell_type": "code",
   "execution_count": 2,
   "id": "14030a4c-b94e-48fd-b969-85f099c21a52",
   "metadata": {
    "tags": []
   },
   "outputs": [
    {
     "data": {
      "text/plain": [
       "6"
      ]
     },
     "execution_count": 2,
     "metadata": {},
     "output_type": "execute_result"
    }
   ],
   "source": [
    "int(6)"
   ]
  },
  {
   "cell_type": "code",
   "execution_count": 3,
   "id": "13ba063b-3261-4d37-ad45-a7f6ad24a23c",
   "metadata": {
    "tags": []
   },
   "outputs": [
    {
     "data": {
      "text/plain": [
       "6.0"
      ]
     },
     "execution_count": 3,
     "metadata": {},
     "output_type": "execute_result"
    }
   ],
   "source": [
    "float(6)"
   ]
  },
  {
   "cell_type": "code",
   "execution_count": 2,
   "id": "19bc39be-326d-43e6-8b09-948d5fffbf6d",
   "metadata": {
    "tags": []
   },
   "outputs": [
    {
     "name": "stdout",
     "output_type": "stream",
     "text": [
      "2+2.5=4.5\n"
     ]
    }
   ],
   "source": [
    "print('2+2.5=' + str(2+2.5))"
   ]
  },
  {
   "cell_type": "markdown",
   "id": "7553c905-8a26-447f-a481-ee0b84f9afd7",
   "metadata": {},
   "source": [
    "This output above now has two strings that were put together where previous there was one string and an integer and a float"
   ]
  },
  {
   "cell_type": "markdown",
   "id": "df044b04-8f7c-4219-9ebd-52ff49d0c2f4",
   "metadata": {},
   "source": [
    "##Changing Data In Imported Data"
   ]
  },
  {
   "cell_type": "code",
   "execution_count": 5,
   "id": "b9d65bc9-225e-4af2-931a-f23a47aee530",
   "metadata": {
    "tags": []
   },
   "outputs": [],
   "source": [
    "# Import relevant libraries, packages, and modules\n",
    "import numpy as np\n",
    "import pandas as pd"
   ]
  },
  {
   "cell_type": "code",
   "execution_count": 6,
   "id": "06420172-5940-4b4a-93c9-a9ed6d9156a2",
   "metadata": {
    "tags": []
   },
   "outputs": [
    {
     "name": "stdout",
     "output_type": "stream",
     "text": [
      "       species  island  bill_length_mm  bill_depth_mm  flipper_length_mm   \n",
      "count      344     344      342.000000     342.000000         342.000000  \\\n",
      "unique       3       3             NaN            NaN                NaN   \n",
      "top     Adelie  Biscoe             NaN            NaN                NaN   \n",
      "freq       152     168             NaN            NaN                NaN   \n",
      "mean       NaN     NaN       43.921930      17.151170         200.915205   \n",
      "std        NaN     NaN        5.459584       1.974793          14.061714   \n",
      "min        NaN     NaN       32.100000      13.100000         172.000000   \n",
      "25%        NaN     NaN       39.225000      15.600000         190.000000   \n",
      "50%        NaN     NaN       44.450000      17.300000         197.000000   \n",
      "75%        NaN     NaN       48.500000      18.700000         213.000000   \n",
      "max        NaN     NaN       59.600000      21.500000         231.000000   \n",
      "\n",
      "        body_mass_g   sex         year  \n",
      "count    342.000000   333   344.000000  \n",
      "unique          NaN     2          NaN  \n",
      "top             NaN  male          NaN  \n",
      "freq            NaN   168          NaN  \n",
      "mean    4201.754386   NaN  2008.029070  \n",
      "std      801.954536   NaN     0.818356  \n",
      "min     2700.000000   NaN  2007.000000  \n",
      "25%     3550.000000   NaN  2007.000000  \n",
      "50%     4050.000000   NaN  2008.000000  \n",
      "75%     4750.000000   NaN  2009.000000  \n",
      "max     6300.000000   NaN  2009.000000  \n"
     ]
    }
   ],
   "source": [
    "#Import your data\n",
    "palmer_penguins = pd.read_csv(\"C:\\\\Users\\\\jmula\\\\Documents\\\\Jupyter Notebooks Python\\\\penguins.csv\")\n",
    "\n",
    "#note if you're having issues make sure you have double slash for the pathway\n",
    "\n",
    "#Get sense of the data to know what you need to change\n",
    "print(palmer_penguins.describe(include='all'))"
   ]
  },
  {
   "cell_type": "code",
   "execution_count": 7,
   "id": "860448e9-2b4d-40ca-885d-2a93cf69c0f2",
   "metadata": {
    "tags": []
   },
   "outputs": [
    {
     "data": {
      "text/plain": [
       "(344, 8)"
      ]
     },
     "execution_count": 7,
     "metadata": {},
     "output_type": "execute_result"
    }
   ],
   "source": [
    "#same with using the shape\n",
    "palmer_penguins.shape #you should see 344, 8 which means 508 rows with 13 columns"
   ]
  },
  {
   "cell_type": "markdown",
   "id": "a882b4bf-c781-44db-a9dc-ff9e68aaa307",
   "metadata": {},
   "source": [
    "To be able to do the things we want to do we need to change the data into a dataframe"
   ]
  },
  {
   "cell_type": "code",
   "execution_count": 10,
   "id": "6d3539fe-fd75-4dc8-9013-e9b910c1ccd0",
   "metadata": {
    "tags": []
   },
   "outputs": [
    {
     "name": "stdout",
     "output_type": "stream",
     "text": [
      "<class 'pandas.core.frame.DataFrame'>\n",
      "Index: 333 entries, 0 to 343\n",
      "Data columns (total 8 columns):\n",
      " #   Column             Non-Null Count  Dtype  \n",
      "---  ------             --------------  -----  \n",
      " 0   species            333 non-null    string \n",
      " 1   island             333 non-null    string \n",
      " 2   bill_length_mm     333 non-null    float64\n",
      " 3   bill_depth_mm      333 non-null    float64\n",
      " 4   flipper_length_mm  333 non-null    float64\n",
      " 5   body_mass_g        333 non-null    float64\n",
      " 6   sex                333 non-null    string \n",
      " 7   year               333 non-null    int64  \n",
      "dtypes: float64(4), int64(1), string(3)\n",
      "memory usage: 23.4 KB\n"
     ]
    }
   ],
   "source": [
    "#Data into Dataframe \n",
    "penguins_df = pd.DataFrame(palmer_penguins, columns=[\"species\",\"island\",\"bill_length_mm\",\"bill_depth_mm\",\"flipper_length_mm\",\"body_mass_g\",\"sex\",\"year\"])\n",
    "\n",
    "#Dropping Nulls\n",
    "penguins_df= penguins_df.dropna() \n",
    "\n",
    "#Cleaning Up Data\n",
    "    #we can change the data type in a data frame by using the astype\n",
    "penguins_df = penguins_df.astype({\n",
    "               \"species\": 'string',\n",
    "                \"island\": 'string',\n",
    "                \"bill_length_mm\" : 'float64', #note for float and int we need to add the 64 bit at the end to ensure we keep with processing system\n",
    "               \"bill_depth_mm\" : 'float64',\n",
    "                \"flipper_length_mm\" : 'float64',\n",
    "    \"body_mass_g\" : 'float64',\n",
    "        \"sex\" : 'string',\n",
    "        \"year\" : 'int64',\n",
    "               })\n",
    "\n",
    "#Viewing to double check the dtype [short for 'data frame type'] went through\n",
    "penguins_df.info()"
   ]
  },
  {
   "cell_type": "markdown",
   "id": "fdf8c747-8737-42ee-95cd-a0e4ed8f1a69",
   "metadata": {},
   "source": [
    "Now you can see how your dataframe has changed!"
   ]
  }
 ],
 "metadata": {
  "kernelspec": {
   "display_name": "Python 3 (ipykernel)",
   "language": "python",
   "name": "python3"
  },
  "language_info": {
   "codemirror_mode": {
    "name": "ipython",
    "version": 3
   },
   "file_extension": ".py",
   "mimetype": "text/x-python",
   "name": "python",
   "nbconvert_exporter": "python",
   "pygments_lexer": "ipython3",
   "version": "3.11.3"
  }
 },
 "nbformat": 4,
 "nbformat_minor": 5
}
