{
 "cells": [
  {
   "cell_type": "markdown",
   "id": "0f3533b0-b6f2-4575-91d0-02ff9d25f33f",
   "metadata": {},
   "source": [
    "Loops (Iterative Statements)\n",
    "- Automatically repeat a portion of code until a process is complete\n",
    "- Helpful for automation and reducing human error\n",
    "\n",
    "Two Types\n",
    "- While Loops: allows you to repeatedly execute a block of code while a certain condition is true"
   ]
  },
  {
   "cell_type": "code",
   "execution_count": 8,
   "id": "ce338955-6db2-4952-96b4-d23c3a36c067",
   "metadata": {
    "tags": []
   },
   "outputs": [
    {
     "name": "stdout",
     "output_type": "stream",
     "text": [
      "Candy purchased: 0\n",
      "Candy purchased: 1\n",
      "Candy purchased: 2\n",
      "Candy purchased: 3\n",
      "Candy purchased: 4\n",
      "Candy purchased: 5\n"
     ]
    }
   ],
   "source": [
    "#while loop example with candy purchases\n",
    "candy_purchased = 0 # Assign `candy_purchased` to an initial value of 0 to act as a counter\n",
    "\n",
    "# Displaying how many purchases have been made with each iteration\n",
    "\n",
    "while candy_purchased <= 5:\n",
    "    print('Candy purchased: ' + str(candy_purchased))\n",
    "    # Increment the candy_purchased counter\n",
    "    candy_purchased += 1"
   ]
  },
  {
   "cell_type": "code",
   "execution_count": 1,
   "id": "1e2614d3-2c9d-425c-b524-97c052722cc1",
   "metadata": {
    "tags": []
   },
   "outputs": [
    {
     "name": "stdout",
     "output_type": "stream",
     "text": [
      "Not there yet, x=0\n",
      "x=1\n",
      "Not there yet, x=1\n",
      "x=2\n",
      "Not there yet, x=2\n",
      "x=3\n",
      "Not there yet, x=3\n",
      "x=4\n",
      "Not there yet, x=4\n",
      "x=5\n"
     ]
    }
   ],
   "source": [
    "# while loop example with counting\n",
    "\n",
    "# Task Create a while loop that prints \"not there yet\", increments x by 1, and prints x until x reaches 5\n",
    "while x < 5:\n",
    "    \n",
    "x = 0\n",
    "\n",
    "\n",
    "    print('Not there yet, x=' + str(x))\n",
    "    x = x + 1\n",
    "    print('x=' + str(x))"
   ]
  },
  {
   "cell_type": "code",
   "execution_count": 10,
   "id": "30357031-8668-4fc8-b9d6-9e0fba463a1d",
   "metadata": {
    "tags": []
   },
   "outputs": [
    {
     "name": "stdout",
     "output_type": "stream",
     "text": [
      "3\n",
      "2\n",
      "1\n"
     ]
    }
   ],
   "source": [
    "#while loops with counting down\n",
    "#This task makes use of a function called sleep() from the time module. \n",
    "#Whenever sleep(n) is executed, the program will pause for n seconds. Run the below cell as an illustrative example to help you understand\n",
    "\n",
    "from time import sleep\n",
    "\n",
    "n = 3\n",
    "while n > 0:\n",
    "    print(n)\n",
    "    sleep(1)    # Execution pauses for 1 second\n",
    "    n = n - 1   # Decrement n by 1"
   ]
  },
  {
   "cell_type": "markdown",
   "id": "1945b4f8-3666-45c3-9337-d9e240c0a6ba",
   "metadata": {},
   "source": [
    "Using while loops and sleep in a realworld problem\n",
    "\n",
    "Task: A movie theater has implemented online reservations through their website. From the seat selection page, customers have a limited amount of time to make their selection. You must write a function that counts down and reminds the user that they have limited time to make a selection. When time expires, it must print a timeout message."
   ]
  },
  {
   "cell_type": "code",
   "execution_count": 11,
   "id": "ca10e7e6-d6e5-474f-9bfa-93be46b81a7a",
   "metadata": {
    "tags": []
   },
   "outputs": [
    {
     "name": "stdout",
     "output_type": "stream",
     "text": [
      "10\n",
      "9\n",
      "8\n",
      "7\n",
      "6\n",
      "Place your reservation soon! 5 minutes remaining.\n",
      "4\n",
      "3\n",
      "Don't lose your seats! 2 minutes remaining.\n",
      "1\n",
      "User timed out.\n"
     ]
    }
   ],
   "source": [
    "from time import sleep #importing the function we need\n",
    "mins = 10\n",
    "\n",
    "while mins >= 0:\n",
    "    sleep(1) #notefor time sake I just put one, to actually complete the task switch out the 1 for 60 seconds\n",
    "    if mins == 5:\n",
    "        print('Place your reservation soon! 5 minutes remaining.')\n",
    "        mins -=1\n",
    "    elif mins == 2:\n",
    "        print('Don\\'t lose your seats! 2 minutes remaining.')\n",
    "        mins -=1\n",
    "    elif mins == 0:\n",
    "        print('User timed out.')\n",
    "        mins -=1\n",
    "    else:\n",
    "        print(mins)\n",
    "        mins -=1"
   ]
  },
  {
   "cell_type": "code",
   "execution_count": 3,
   "id": "66a113e0-e69f-4568-a1f1-d04c944b619f",
   "metadata": {
    "tags": []
   },
   "outputs": [
    {
     "name": "stdout",
     "output_type": "stream",
     "text": [
      "Guess a number between 1 and 25: \n"
     ]
    },
    {
     "name": "stdin",
     "output_type": "stream",
     "text": [
      " 4\n"
     ]
    },
    {
     "name": "stdout",
     "output_type": "stream",
     "text": [
      "Nope! Try again.\n",
      "Guess a number between 1 and 25: \n"
     ]
    },
    {
     "name": "stdin",
     "output_type": "stream",
     "text": [
      " 6\n"
     ]
    },
    {
     "name": "stdout",
     "output_type": "stream",
     "text": [
      "Nope! Try again.\n",
      "Guess a number between 1 and 25: \n"
     ]
    },
    {
     "name": "stdin",
     "output_type": "stream",
     "text": [
      " 15\n"
     ]
    },
    {
     "name": "stdout",
     "output_type": "stream",
     "text": [
      "Nope! Try again.\n",
      "Guess a number between 1 and 25: \n"
     ]
    },
    {
     "name": "stdin",
     "output_type": "stream",
     "text": [
      " 18\n"
     ]
    },
    {
     "name": "stdout",
     "output_type": "stream",
     "text": [
      "Nope! Try again.\n",
      "Guess a number between 1 and 25: \n"
     ]
    },
    {
     "name": "stdin",
     "output_type": "stream",
     "text": [
      " 25\n"
     ]
    },
    {
     "name": "stdout",
     "output_type": "stream",
     "text": [
      "You did not guess the number. The number was 19.\n"
     ]
    }
   ],
   "source": [
    "#using while loops in a guess the Number example\n",
    "import random\n",
    "\n",
    "number = random.randint(1,25)                   # Generate random number\n",
    "number_of_guesses = 0                           # Instantiate guess counter\n",
    "\n",
    "while number_of_guesses < 5:\n",
    "    print('Guess a number between 1 and 25: ')  # Tells user to guess number\n",
    "    guess = input()                             # Produces the user input field\n",
    "    guess = int(guess)                          # Convert guess to integer\n",
    "    number_of_guesses += 1                      # Increment guess count by 1\n",
    "\n",
    "    if guess == number:                         # Break while loop if guess is correct\n",
    "        break\n",
    "    elif number_of_guesses == 5:                # Break while loop if guess limit reached\n",
    "        break\n",
    "    else:                                       # Tell user to try again\n",
    "        print('Nope! Try again.')\n",
    "\n",
    "# Message to display if correct\n",
    "if guess == number:\n",
    "    print('Correct! You guessed the number in ' + str(number_of_guesses) + ' tries!')\n",
    "# Message to display after 5 unsuccessful guesses\n",
    "else:\n",
    "    print('You did not guess the number. The number was ' + str(number) + '.')\n"
   ]
  },
  {
   "cell_type": "markdown",
   "id": "96b965db-eb54-40e6-9065-973ab7b8ec4a",
   "metadata": {},
   "source": [
    "- For Loops: usefull for working through the items in a predetermined range or vector(list)"
   ]
  },
  {
   "cell_type": "code",
   "execution_count": 1,
   "id": "9921e92e-fc6e-4428-bfcf-7a84c90e44ee",
   "metadata": {},
   "outputs": [
    {
     "name": "stdout",
     "output_type": "stream",
     "text": [
      "0 -17.77777777777778\n",
      "10 -12.222222222222221\n",
      "20 -6.666666666666667\n",
      "30 -1.1111111111111112\n",
      "40 4.444444444444445\n",
      "50 10.0\n",
      "60 15.555555555555555\n",
      "70 21.11111111111111\n",
      "80 26.666666666666668\n",
      "90 32.22222222222222\n",
      "100 37.77777777777778\n"
     ]
    }
   ],
   "source": [
    "# Define a function that converts Fahrenheit to Celsius\n",
    "def to_celsius(x):\n",
    "     return (x-32) * 5/9\n",
    "\n",
    "# Create a table of Celsius-->Fahrenheit conversions every 10 degrees, 0-100\n",
    "for x in range(0, 101, 10): \n",
    "    #when setting range first two numbers are the actual range, putting a third number does intervals called 'steps'\n",
    "     print(x, to_celsius(x))"
   ]
  },
  {
   "cell_type": "code",
   "execution_count": 2,
   "id": "2e2db621-4e4a-4b6c-a00c-c94f6db04155",
   "metadata": {},
   "outputs": [
    {
     "name": "stdout",
     "output_type": "stream",
     "text": [
      "  0 F | -17.78 C\n",
      " 10 F | -12.22 C\n",
      " 20 F |  -6.67 C\n",
      " 30 F |  -1.11 C\n",
      " 40 F |   4.44 C\n",
      " 50 F |  10.00 C\n",
      " 60 F |  15.56 C\n",
      " 70 F |  21.11 C\n",
      " 80 F |  26.67 C\n",
      " 90 F |  32.22 C\n",
      "100 F |  37.78 C\n"
     ]
    }
   ],
   "source": [
    "# Labeling a temperature conversion table using string formatting\n",
    "for x in range(0, 101, 10):\n",
    "    print(\"{:>3} F | {:>6.2f} C\".format(x, to_celsius(x)))"
   ]
  },
  {
   "cell_type": "markdown",
   "id": "08737f13-b157-4ae1-8bd1-e99053747e17",
   "metadata": {},
   "source": [
    "If/elif/else statements within for loops\n",
    "You can use if/else statements within your for loops to complete a function"
   ]
  },
  {
   "cell_type": "code",
   "execution_count": 25,
   "id": "8bc8b4c4-30c9-4597-8ad3-1ef7302f3a75",
   "metadata": {
    "tags": []
   },
   "outputs": [],
   "source": [
    "#Zipcode Checker\n",
    "\n",
    "def zip_checker(zipcode):\n",
    "    if len(zipcode) == 5:\n",
    "        return zipcode\n",
    "    elif zipcode[0] != '0':\n",
    "        zipcode = '0' + zipcode\n",
    "        return zipcode\n",
    "    else:\n",
    "        print('Invalid ZIP Code.')"
   ]
  },
  {
   "cell_type": "code",
   "execution_count": 26,
   "id": "c0e959e6-5e4c-46e3-bf3b-d7a4bba2cba9",
   "metadata": {
    "tags": []
   },
   "outputs": [
    {
     "name": "stdout",
     "output_type": "stream",
     "text": [
      "02806\n",
      "02806\n",
      "Invalid ZIP Code.\n"
     ]
    }
   ],
   "source": [
    "print(zip_checker('02806'))     # Should return 02806.\n",
    "print(zip_checker('2806'))      # Should return 02806.\n",
    "zip_checker('0280')             # Should print 'Invalid ZIP Code.'"
   ]
  },
  {
   "cell_type": "markdown",
   "id": "4ca95af2-6ef8-4499-baff-0816bf02a068",
   "metadata": {},
   "source": [
    "Break and Continues in Loops\n",
    "- Break statement- used to end a loop even if the conditional statement is still true\n",
    "- Continue statement- skip an iteration of the loop without executing the rest of the code inside the loop for the current iteration"
   ]
  },
  {
   "cell_type": "markdown",
   "id": "5392cbdf-fdd8-41ac-ac7c-03e99800be84",
   "metadata": {
    "tags": []
   },
   "source": [
    "x = 1\n",
    "i = 0\n",
    "while x < 100:\n",
    "   if i == 5:\n",
    "       break\n",
    "   print(i, x)\n",
    "   x = x*2\n",
    "   i += 1"
   ]
  },
  {
   "cell_type": "markdown",
   "id": "59bf7577-909b-42cf-b348-b7a83b480817",
   "metadata": {},
   "source": [
    "Nested Loop: Loops within another loop"
   ]
  },
  {
   "cell_type": "code",
   "execution_count": 1,
   "id": "f75c009f-bd74-442f-bb13-f701997331c3",
   "metadata": {},
   "outputs": [
    {
     "name": "stdout",
     "output_type": "stream",
     "text": [
      "1 4\n",
      "1 5\n",
      "2 4\n",
      "2 5\n"
     ]
    }
   ],
   "source": [
    "x = [1, 2] #list\n",
    "y = [4, 5] #list\n",
    " \n",
    "for i in x: #for every integer in x\n",
    "  for j in y: #for every integer in y\n",
    "    print(i, j) #do this action"
   ]
  },
  {
   "cell_type": "markdown",
   "id": "88bba13f-2595-4a75-a637-cc7f9a05cf89",
   "metadata": {},
   "source": [
    "Note that the output goes the first value of x with the first value of y, then x with the first value of y. To switch this process change which list goes in the outer loop"
   ]
  },
  {
   "cell_type": "code",
   "execution_count": 2,
   "id": "b23d888f-736f-43f1-ad0d-d1ac92c53bca",
   "metadata": {
    "tags": []
   },
   "outputs": [
    {
     "name": "stdout",
     "output_type": "stream",
     "text": [
      "4 1\n",
      "4 2\n",
      "5 1\n",
      "5 2\n"
     ]
    }
   ],
   "source": [
    "x = [1, 2] #note we did not change list\n",
    "y = [4, 5] #note we did not change list\n",
    " \n",
    "for i in y: #for every integer in x\n",
    "  for j in x: #for every integer in y\n",
    "    print(i, j) #do this action"
   ]
  },
  {
   "cell_type": "markdown",
   "id": "f0b7016a-b89f-4df6-93b3-5ef9c3969a4e",
   "metadata": {},
   "source": [
    "Note how now it has switched and the output then goes the first value of y with the first value of x, then the first value of y with the second value of x"
   ]
  },
  {
   "cell_type": "code",
   "execution_count": 7,
   "id": "cc628ad0-6cdc-4ae0-a031-11876f682a61",
   "metadata": {
    "tags": []
   },
   "outputs": [
    {
     "name": "stdout",
     "output_type": "stream",
     "text": [
      "oranges ripe\n",
      "oranges not_ripe\n",
      "apples ripe\n",
      "apples not_ripe\n",
      "pears ripe\n",
      "pears not_ripe\n"
     ]
    }
   ],
   "source": [
    "#we can do this with different data types as well\n",
    "\n",
    "fruit= [\"oranges\", \"apples\", \"pears\"] #remember for strings to put \"\"\n",
    "ripeness= [\"ripe\", \"not_ripe\"]\n",
    "\n",
    "for name in fruit:\n",
    "    for word in ripeness:\n",
    "        print(name, word)"
   ]
  },
  {
   "cell_type": "markdown",
   "id": "ec2974a1-fb52-4e24-961d-43685febb808",
   "metadata": {},
   "source": [
    "Loops in Function Task\n",
    "\n",
    "Task:  You have received customer feedback for a newly launched product. The feedback is a numerical grade on a scale of 1-10, with 10 being the best. Understanding the number of customers who responded negatively, neutrally, or positively will help determine how to improve the product."
   ]
  },
  {
   "cell_type": "code",
   "execution_count": 8,
   "id": "b6a1e6c1-c131-41b6-a34a-378410b0cf26",
   "metadata": {
    "tags": []
   },
   "outputs": [],
   "source": [
    "def score_counter(score_list):\n",
    "    negative_scores = 0\n",
    "    neutral_scores = 0\n",
    "    positive_scores = 0\n",
    "\n",
    "    for score in score_list:\n",
    "        if score >= 9:\n",
    "            positive_scores += 1\n",
    "        elif score >= 6:\n",
    "            neutral_scores += 1\n",
    "        else:\n",
    "            negative_scores += 1\n",
    "\n",
    "    print('Negative:', negative_scores)\n",
    "    print('Neutral:', neutral_scores)\n",
    "    print('Positive:', positive_scores)"
   ]
  },
  {
   "cell_type": "code",
   "execution_count": 9,
   "id": "7492a998-aa31-437e-9ec8-fc429a878768",
   "metadata": {
    "tags": []
   },
   "outputs": [
    {
     "name": "stdout",
     "output_type": "stream",
     "text": [
      "Test 1:\n",
      "Negative: 5\n",
      "Neutral: 1\n",
      "Positive: 4\n",
      "\n",
      "Test 2:\n",
      "Negative: 85\n",
      "Neutral: 253\n",
      "Positive: 112\n",
      "\n",
      "Test 3:\n",
      "Negative: 1935\n",
      "Neutral: 2652\n",
      "Positive: 5413\n"
     ]
    }
   ],
   "source": [
    "#Now that we have our function let's test it\n",
    "\n",
    "import random\n",
    "random.seed(42)\n",
    "\n",
    "possible_scores = list(range(1,11))\n",
    "score_list1 = random.choices(possible_scores, weights=[8,8,8,8,8,3,3,4,20,30], k=10)\n",
    "score_list2 = random.choices(possible_scores, weights=[1,2,3,4,5,10,15,15,7,9], k=450)\n",
    "score_list3 = random.choices(possible_scores, weights=[1,2,3,4,4,5,5,10,15,25], k=10000)\n",
    "\n",
    "print('Test 1:')            # SHOULD OUTPUT (neg, neut, pos):\n",
    "score_counter(score_list1)  # 5, 1, 4\n",
    "print('\\nTest 2:')\n",
    "score_counter(score_list2)  # 85, 253, 112\n",
    "print('\\nTest 3:')\n",
    "score_counter(score_list3)  # 1935, 2652, 5413"
   ]
  },
  {
   "cell_type": "code",
   "execution_count": null,
   "id": "c7a6b83a-1c27-4d5f-9b80-32fab46c46ba",
   "metadata": {},
   "outputs": [],
   "source": []
  }
 ],
 "metadata": {
  "kernelspec": {
   "display_name": "Python 3 (ipykernel)",
   "language": "python",
   "name": "python3"
  },
  "language_info": {
   "codemirror_mode": {
    "name": "ipython",
    "version": 3
   },
   "file_extension": ".py",
   "mimetype": "text/x-python",
   "name": "python",
   "nbconvert_exporter": "python",
   "pygments_lexer": "ipython3",
   "version": "3.11.3"
  }
 },
 "nbformat": 4,
 "nbformat_minor": 5
}
