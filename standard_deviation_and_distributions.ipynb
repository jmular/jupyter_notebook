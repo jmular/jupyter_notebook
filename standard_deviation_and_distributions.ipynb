{
 "cells": [
  {
   "cell_type": "markdown",
   "id": "daf2d6dc-5cb2-4995-9cdc-a707bedda247",
   "metadata": {},
   "source": [
    "###Standard Deviation and Distribution in Python\n",
    "\n",
    "Topics Covered: Distribution, Standard Deviation, Z-Score"
   ]
  },
  {
   "cell_type": "code",
   "execution_count": 67,
   "id": "fbdffd21-1f47-47d4-897f-8d7809f1846e",
   "metadata": {
    "tags": []
   },
   "outputs": [],
   "source": [
    "# Import relevant libraries, packages, and modules\n",
    "import numpy as np\n",
    "import pandas as pd\n",
    "import matplotlib.pyplot as plt #run python -m pip install -U matplotlib in command prompt if you have not already\n",
    "import statsmodels.api as sm #same with python -m pip install statsmodels\n",
    "from scipy import stats"
   ]
  },
  {
   "cell_type": "code",
   "execution_count": 21,
   "id": "f877c2a1-a9e6-49c3-8b3c-5382cf3e81b6",
   "metadata": {
    "tags": []
   },
   "outputs": [],
   "source": [
    "#Import your data\n",
    "movie_data = pd.read_csv(\"C:\\\\Users\\\\jmula\\\\Documents\\\\Jupyter Notebooks Python\\\\movies_dataset_example.csv\")\n",
    "#note if you're having issues make sure you have double slash for the pathway"
   ]
  },
  {
   "cell_type": "code",
   "execution_count": 22,
   "id": "9fd573b4-063c-4476-bcf8-2adbef9c61f3",
   "metadata": {
    "tags": []
   },
   "outputs": [
    {
     "data": {
      "text/html": [
       "<div>\n",
       "<style scoped>\n",
       "    .dataframe tbody tr th:only-of-type {\n",
       "        vertical-align: middle;\n",
       "    }\n",
       "\n",
       "    .dataframe tbody tr th {\n",
       "        vertical-align: top;\n",
       "    }\n",
       "\n",
       "    .dataframe thead th {\n",
       "        text-align: right;\n",
       "    }\n",
       "</style>\n",
       "<table border=\"1\" class=\"dataframe\">\n",
       "  <thead>\n",
       "    <tr style=\"text-align: right;\">\n",
       "      <th></th>\n",
       "      <th>Movie Title</th>\n",
       "      <th>Release Date</th>\n",
       "      <th>Wikipedia URL</th>\n",
       "      <th>Genre</th>\n",
       "      <th>Director (1)</th>\n",
       "      <th>Director (2)</th>\n",
       "      <th>Cast (1)</th>\n",
       "      <th>Cast (2)</th>\n",
       "      <th>Cast (3)</th>\n",
       "      <th>Cast (4)</th>\n",
       "      <th>Cast (5)</th>\n",
       "      <th>Budget</th>\n",
       "      <th>Revenue</th>\n",
       "    </tr>\n",
       "  </thead>\n",
       "  <tbody>\n",
       "    <tr>\n",
       "      <th>0</th>\n",
       "      <td>10 Cloverfield Lane</td>\n",
       "      <td>3/8/2016</td>\n",
       "      <td>https://en.wikipedia.org/wiki/10_Cloverfield_Lane</td>\n",
       "      <td>Thriller</td>\n",
       "      <td>Dan Trachtenberg</td>\n",
       "      <td>NaN</td>\n",
       "      <td>Mary Elizabeth Winstead</td>\n",
       "      <td>John Goodman</td>\n",
       "      <td>John Gallagher</td>\n",
       "      <td>NaN</td>\n",
       "      <td>NaN</td>\n",
       "      <td>15000000</td>\n",
       "      <td>108300000</td>\n",
       "    </tr>\n",
       "    <tr>\n",
       "      <th>1</th>\n",
       "      <td>13 Hours: The Secret Soldiers of Benghazi</td>\n",
       "      <td>1/15/2016</td>\n",
       "      <td>https://en.wikipedia.org/wiki/13_Hours:_The_Se...</td>\n",
       "      <td>Action</td>\n",
       "      <td>Michael Bay</td>\n",
       "      <td>NaN</td>\n",
       "      <td>James Badge Dale</td>\n",
       "      <td>John Krasinski</td>\n",
       "      <td>Toby Stephens</td>\n",
       "      <td>Pablo Schreiber</td>\n",
       "      <td>Max Martini</td>\n",
       "      <td>45000000</td>\n",
       "      <td>69400000</td>\n",
       "    </tr>\n",
       "    <tr>\n",
       "      <th>2</th>\n",
       "      <td>2 Guns</td>\n",
       "      <td>8/2/2013</td>\n",
       "      <td>https://en.wikipedia.org/wiki/2_Guns</td>\n",
       "      <td>Action</td>\n",
       "      <td>Baltasar Kormákur</td>\n",
       "      <td>NaN</td>\n",
       "      <td>Mark Wahlberg</td>\n",
       "      <td>Denzel Washington</td>\n",
       "      <td>Paula Patton</td>\n",
       "      <td>Bill Paxton</td>\n",
       "      <td>Edward James Olmos</td>\n",
       "      <td>61000000</td>\n",
       "      <td>131900000</td>\n",
       "    </tr>\n",
       "    <tr>\n",
       "      <th>3</th>\n",
       "      <td>21 Jump Street</td>\n",
       "      <td>3/16/2012</td>\n",
       "      <td>https://en.wikipedia.org/wiki/21_Jump_Street_(...</td>\n",
       "      <td>Comedy</td>\n",
       "      <td>Phil Lord</td>\n",
       "      <td>Chris Miller</td>\n",
       "      <td>Jonah Hill</td>\n",
       "      <td>Channing Tatum</td>\n",
       "      <td>Ice Cube</td>\n",
       "      <td>Brie Larson</td>\n",
       "      <td>Rob Riggle</td>\n",
       "      <td>55000000</td>\n",
       "      <td>201500000</td>\n",
       "    </tr>\n",
       "    <tr>\n",
       "      <th>4</th>\n",
       "      <td>22 Jump Street</td>\n",
       "      <td>6/4/2014</td>\n",
       "      <td>https://en.wikipedia.org/wiki/22_Jump_Street</td>\n",
       "      <td>Action</td>\n",
       "      <td>Phil Lord</td>\n",
       "      <td>Chris Miller</td>\n",
       "      <td>Channing Tatum</td>\n",
       "      <td>Jonah Hill</td>\n",
       "      <td>Ice Cube</td>\n",
       "      <td>NaN</td>\n",
       "      <td>NaN</td>\n",
       "      <td>84500000</td>\n",
       "      <td>331300000</td>\n",
       "    </tr>\n",
       "  </tbody>\n",
       "</table>\n",
       "</div>"
      ],
      "text/plain": [
       "                                 Movie Title Release Date   \n",
       "0                        10 Cloverfield Lane     3/8/2016  \\\n",
       "1  13 Hours: The Secret Soldiers of Benghazi    1/15/2016   \n",
       "2                                     2 Guns     8/2/2013   \n",
       "3                             21 Jump Street    3/16/2012   \n",
       "4                             22 Jump Street     6/4/2014   \n",
       "\n",
       "                                       Wikipedia URL     Genre   \n",
       "0  https://en.wikipedia.org/wiki/10_Cloverfield_Lane  Thriller  \\\n",
       "1  https://en.wikipedia.org/wiki/13_Hours:_The_Se...    Action   \n",
       "2               https://en.wikipedia.org/wiki/2_Guns    Action   \n",
       "3  https://en.wikipedia.org/wiki/21_Jump_Street_(...    Comedy   \n",
       "4       https://en.wikipedia.org/wiki/22_Jump_Street    Action   \n",
       "\n",
       "        Director (1)  Director (2)                 Cast (1)   \n",
       "0   Dan Trachtenberg           NaN  Mary Elizabeth Winstead  \\\n",
       "1        Michael Bay           NaN         James Badge Dale   \n",
       "2  Baltasar Kormákur           NaN            Mark Wahlberg   \n",
       "3          Phil Lord  Chris Miller               Jonah Hill   \n",
       "4          Phil Lord  Chris Miller           Channing Tatum   \n",
       "\n",
       "            Cast (2)        Cast (3)         Cast (4)            Cast (5)   \n",
       "0       John Goodman  John Gallagher              NaN                 NaN  \\\n",
       "1     John Krasinski   Toby Stephens  Pablo Schreiber         Max Martini   \n",
       "2  Denzel Washington    Paula Patton      Bill Paxton  Edward James Olmos   \n",
       "3     Channing Tatum        Ice Cube      Brie Larson          Rob Riggle   \n",
       "4         Jonah Hill        Ice Cube              NaN                 NaN   \n",
       "\n",
       "    Budget     Revenue  \n",
       "0  15000000  108300000  \n",
       "1  45000000   69400000  \n",
       "2  61000000  131900000  \n",
       "3  55000000  201500000  \n",
       "4  84500000  331300000  "
      ]
     },
     "execution_count": 22,
     "metadata": {},
     "output_type": "execute_result"
    }
   ],
   "source": [
    "#Explore data to understand\n",
    "movie_data.head()"
   ]
  },
  {
   "cell_type": "code",
   "execution_count": 23,
   "id": "8efc9f2b-d4c2-4e1f-a795-459b8d26e617",
   "metadata": {
    "tags": []
   },
   "outputs": [
    {
     "data": {
      "text/plain": [
       "(508, 13)"
      ]
     },
     "execution_count": 23,
     "metadata": {},
     "output_type": "execute_result"
    }
   ],
   "source": [
    "#same with using the shape\n",
    "movie_data.shape #you should see 508, 13 which means 508 rows with 13 columns"
   ]
  },
  {
   "cell_type": "markdown",
   "id": "2cbe4085-3245-4225-bc04-f9eed6eb85e7",
   "metadata": {},
   "source": [
    "To be able to do the things we want to do we need to change the data into a dataframe"
   ]
  },
  {
   "cell_type": "code",
   "execution_count": 31,
   "id": "3936c348-952c-484b-b8ab-471833de34df",
   "metadata": {
    "tags": []
   },
   "outputs": [],
   "source": [
    "#Data into Dataframe \n",
    "movie_df = pd.DataFrame(movie_data, columns=[\"Movie Title\",\"Release Date\",\"Wikipedia URL\",\"Genre\",\"Director (1)\",\"Director (2)\",\"Cast (1)\",\"Cast (2)\",\"Cast (3)\",\"Cast (4)\", \"Cast(5)\", \"Budget\",\"Revenue\"])"
   ]
  },
  {
   "cell_type": "markdown",
   "id": "460d8ff8-6fff-4e47-954a-bfa54289fcc6",
   "metadata": {},
   "source": [
    "Now I edited the original data set within excel to already have integers, see the data cleaning walkthrough if you need a refresher to do it in python!"
   ]
  },
  {
   "cell_type": "markdown",
   "id": "49462b0f-c0db-4b5e-8614-292cb6dba79c",
   "metadata": {},
   "source": [
    "Now, we have two monetary values to look at for this data Budget and Revenue, since we're looking at probability lets see if these fit a specific type of probability distribution.\n",
    "\n",
    "We can do this by running statistical tests to see if its a normal distribution."
   ]
  },
  {
   "cell_type": "code",
   "execution_count": null,
   "id": "40673dfa-c037-4d2e-8d33-3ec6ebf58dd4",
   "metadata": {},
   "outputs": [],
   "source": [
    "### Modeling Data for Probability Distribution\n",
    "\n",
    "The first step in trying to model your data with a probability distribution is to plot a histogram. This will help you visualize the shape of your data, and determine if it resembles the shape of a specific distribution. \n",
    "\n",
    "Use matplotlib’s histogram function to plot a histogram of the revenue data"
   ]
  },
  {
   "cell_type": "code",
   "execution_count": 68,
   "id": "3c7b8655-f64d-45ea-b23c-9ab33b3f3b35",
   "metadata": {
    "tags": []
   },
   "outputs": [
    {
     "data": {
      "text/plain": [
       "<Axes: >"
      ]
     },
     "execution_count": 68,
     "metadata": {},
     "output_type": "execute_result"
    },
    {
     "data": {
      "image/png": "[encoded data removed]",
      "text/plain": [
       "<Figure size 640x480 with 1 Axes>"
      ]
     },
     "metadata": {},
     "output_type": "display_data"
    }
   ],
   "source": [
    "movie_df['Revenue'].hist()"
   ]
  },
  {
   "cell_type": "markdown",
   "id": "033d8869-3ca2-4378-8f87-08f26eea48ee",
   "metadata": {},
   "source": [
    "Now we can see this histogram does not necessarily fit a bell curve or normal distribution and is skewed right (note skews go in the direction of the 'tail'), we can tell a majority of our data will be on the left\n",
    "\n",
    "Note that while this is not a normal distribution for demonstration purposes for python we'll pretend that it is"
   ]
  },
  {
   "cell_type": "code",
   "execution_count": null,
   "id": "faf0f2a1-9a17-42bb-ae3a-79ea053af099",
   "metadata": {},
   "outputs": [],
   "source": [
    "### Empirical rule for Standard Deviation\n",
    "Recall that the **empirical rule** says that for a normal distribution:\n",
    "\n",
    "*   **68%** of the values fall within +/- 1 SD from the mean\n",
    "*   **95%** of the values fall within +/- 2 SD from the mean\n",
    "*   **99.7%** of the values fall within +/- 3 SD from the mean\n",
    "\n",
    "(**Note**: \"SD\" stands for standard deviation)"
   ]
  },
  {
   "cell_type": "code",
   "execution_count": 51,
   "id": "cf92ae4c-e107-4846-b7e3-65f0577d16a4",
   "metadata": {
    "tags": []
   },
   "outputs": [
    {
     "name": "stdout",
     "output_type": "stream",
     "text": [
      "151983208.66141734\n"
     ]
    }
   ],
   "source": [
    "#finding mean\n",
    "mean_revenue = movie_df[\"Revenue\"].mean()\n",
    "print(mean_revenue)"
   ]
  },
  {
   "cell_type": "code",
   "execution_count": 55,
   "id": "51c05fac-3363-4c90-96b7-9c64df8abaa8",
   "metadata": {
    "tags": []
   },
   "outputs": [
    {
     "name": "stdout",
     "output_type": "stream",
     "text": [
      "183255470.09587172\n"
     ]
    }
   ],
   "source": [
    "#finding standard deviation \n",
    "std_revenue = movie_df[\"Revenue\"].std()\n",
    "print(std_revenue)"
   ]
  },
  {
   "cell_type": "code",
   "execution_count": 59,
   "id": "f241b4f9-2980-49e5-8269-0f82a2f1bdd9",
   "metadata": {
    "tags": []
   },
   "outputs": [
    {
     "name": "stdout",
     "output_type": "stream",
     "text": [
      "-31272261.43445438 335238678.75728905\n"
     ]
    }
   ],
   "source": [
    "# Define variable for lower limit, 1 standard deviation below the mean.\n",
    "lower_limit_revenue_std_1 = mean_revenue - 1 * std_revenue\n",
    "# Define variable for upper limit, 1 standard deviation above the mean.\n",
    "upper_limit_revenue_std_1 = mean_revenue + 1 * std_revenue\n",
    "# Display lower_limit, upper_limit.\n",
    "print(lower_limit_revenue_std_1, upper_limit_revenue_std_1)"
   ]
  },
  {
   "cell_type": "code",
   "execution_count": 60,
   "id": "860a5cd7-89f0-4dd1-9857-c04a04360c02",
   "metadata": {
    "tags": []
   },
   "outputs": [
    {
     "data": {
      "text/plain": [
       "85.43307086614173"
      ]
     },
     "execution_count": 60,
     "metadata": {},
     "output_type": "execute_result"
    }
   ],
   "source": [
    "#Empirical Rule 1\n",
    "\n",
    "#how to display the percentage of data that falls within 1 standard deviation of the mean\n",
    "((movie_df[\"Revenue\"] >= lower_limit_revenue_std_1) & (movie_df[\"Revenue\"] <= upper_limit_revenue_std_1)).mean() * 100\n",
    "#should show 85.43307086614173"
   ]
  },
  {
   "cell_type": "markdown",
   "id": "21afbb84-cc1a-4f5b-a68f-87df5c0808f2",
   "metadata": {},
   "source": [
    "So we can see that it strays a bit from the first rule, lets see what another standard deviation away says"
   ]
  },
  {
   "cell_type": "code",
   "execution_count": 61,
   "id": "eee6f62f-fb21-4784-bfc4-88cd46bdab1c",
   "metadata": {
    "tags": []
   },
   "outputs": [
    {
     "name": "stdout",
     "output_type": "stream",
     "text": [
      "-214527731.5303261 518494148.85316074\n"
     ]
    }
   ],
   "source": [
    "# Define variable for lower limit, 2 standard deviations below the mean.\n",
    "lower_limit_revenue_std_2 = mean_revenue - 2 * std_revenue\n",
    "# Define variable for upper limit, 2 standard deviation above the mean.\n",
    "upper_limit_revenue_std_2 = mean_revenue + 2 * std_revenue\n",
    "# Display lower_limit, upper_limit.\n",
    "print(lower_limit_revenue_std_2, upper_limit_revenue_std_2)"
   ]
  },
  {
   "cell_type": "code",
   "execution_count": 63,
   "id": "9ea79577-bf81-4197-8ac0-0eecab1ef682",
   "metadata": {
    "tags": []
   },
   "outputs": [
    {
     "data": {
      "text/plain": [
       "93.30708661417323"
      ]
     },
     "execution_count": 63,
     "metadata": {},
     "output_type": "execute_result"
    }
   ],
   "source": [
    "#Empirical Rule 2\n",
    "\n",
    "#how to display the percentage of data that falls within 1 standard deviation of the mean\n",
    "((movie_df[\"Revenue\"] >= lower_limit_revenue_std_2) & (movie_df[\"Revenue\"] <= upper_limit_revenue_std_2)).mean() * 100\n",
    "#should show 93.30708661417323"
   ]
  },
  {
   "cell_type": "markdown",
   "id": "73db44b4-69ba-48e8-b13a-33171e21bfda",
   "metadata": {},
   "source": [
    "Now this doesn't follow the second empirical rule, but for the purposes of the next bit we'll say this looks close"
   ]
  },
  {
   "cell_type": "markdown",
   "id": "1cab35a9-c1f1-427a-95e0-167dffdc8fe2",
   "metadata": {},
   "source": [
    "### Z-Score\n",
    "How can we identify potential outliers in our data?\n",
    "Using the **z-score**\n",
    "\n",
    "Since z-score indicates the relative position of values (for instance, z-score measures how many standard deviations below or above the mean a data point is), it can be used to detect outliers.\n",
    "\n",
    "Z-score could be used to identify values that lie more than 3 standard deviations below or above the mean. These values may be considered outliers."
   ]
  },
  {
   "cell_type": "code",
   "execution_count": 65,
   "id": "1248aff7-46d1-4ff8-9a29-d7e64b574356",
   "metadata": {
    "tags": []
   },
   "outputs": [
    {
     "data": {
      "text/html": [
       "<div>\n",
       "<style scoped>\n",
       "    .dataframe tbody tr th:only-of-type {\n",
       "        vertical-align: middle;\n",
       "    }\n",
       "\n",
       "    .dataframe tbody tr th {\n",
       "        vertical-align: top;\n",
       "    }\n",
       "\n",
       "    .dataframe thead th {\n",
       "        text-align: right;\n",
       "    }\n",
       "</style>\n",
       "<table border=\"1\" class=\"dataframe\">\n",
       "  <thead>\n",
       "    <tr style=\"text-align: right;\">\n",
       "      <th></th>\n",
       "      <th>Movie Title</th>\n",
       "      <th>Release Date</th>\n",
       "      <th>Wikipedia URL</th>\n",
       "      <th>Genre</th>\n",
       "      <th>Director (1)</th>\n",
       "      <th>Director (2)</th>\n",
       "      <th>Cast (1)</th>\n",
       "      <th>Cast (2)</th>\n",
       "      <th>Cast (3)</th>\n",
       "      <th>Cast (4)</th>\n",
       "      <th>Cast(5)</th>\n",
       "      <th>Budget</th>\n",
       "      <th>Revenue</th>\n",
       "      <th>z_score_revenue</th>\n",
       "    </tr>\n",
       "  </thead>\n",
       "  <tbody>\n",
       "    <tr>\n",
       "      <th>0</th>\n",
       "      <td>10 Cloverfield Lane</td>\n",
       "      <td>3/8/2016</td>\n",
       "      <td>https://en.wikipedia.org/wiki/10_Cloverfield_Lane</td>\n",
       "      <td>Thriller</td>\n",
       "      <td>Dan Trachtenberg</td>\n",
       "      <td>NaN</td>\n",
       "      <td>Mary Elizabeth Winstead</td>\n",
       "      <td>John Goodman</td>\n",
       "      <td>John Gallagher</td>\n",
       "      <td>NaN</td>\n",
       "      <td>NaN</td>\n",
       "      <td>NaN</td>\n",
       "      <td>108300000</td>\n",
       "      <td>-0.238608</td>\n",
       "    </tr>\n",
       "    <tr>\n",
       "      <th>1</th>\n",
       "      <td>13 Hours: The Secret Soldiers of Benghazi</td>\n",
       "      <td>1/15/2016</td>\n",
       "      <td>https://en.wikipedia.org/wiki/13_Hours:_The_Se...</td>\n",
       "      <td>Action</td>\n",
       "      <td>Michael Bay</td>\n",
       "      <td>NaN</td>\n",
       "      <td>James Badge Dale</td>\n",
       "      <td>John Krasinski</td>\n",
       "      <td>Toby Stephens</td>\n",
       "      <td>Pablo Schreiber</td>\n",
       "      <td>NaN</td>\n",
       "      <td>NaN</td>\n",
       "      <td>69400000</td>\n",
       "      <td>-0.451089</td>\n",
       "    </tr>\n",
       "    <tr>\n",
       "      <th>2</th>\n",
       "      <td>2 Guns</td>\n",
       "      <td>8/2/2013</td>\n",
       "      <td>https://en.wikipedia.org/wiki/2_Guns</td>\n",
       "      <td>Action</td>\n",
       "      <td>Baltasar Kormákur</td>\n",
       "      <td>NaN</td>\n",
       "      <td>Mark Wahlberg</td>\n",
       "      <td>Denzel Washington</td>\n",
       "      <td>Paula Patton</td>\n",
       "      <td>Bill Paxton</td>\n",
       "      <td>NaN</td>\n",
       "      <td>NaN</td>\n",
       "      <td>131900000</td>\n",
       "      <td>-0.109699</td>\n",
       "    </tr>\n",
       "    <tr>\n",
       "      <th>3</th>\n",
       "      <td>21 Jump Street</td>\n",
       "      <td>3/16/2012</td>\n",
       "      <td>https://en.wikipedia.org/wiki/21_Jump_Street_(...</td>\n",
       "      <td>Comedy</td>\n",
       "      <td>Phil Lord</td>\n",
       "      <td>Chris Miller</td>\n",
       "      <td>Jonah Hill</td>\n",
       "      <td>Channing Tatum</td>\n",
       "      <td>Ice Cube</td>\n",
       "      <td>Brie Larson</td>\n",
       "      <td>NaN</td>\n",
       "      <td>NaN</td>\n",
       "      <td>201500000</td>\n",
       "      <td>0.270473</td>\n",
       "    </tr>\n",
       "    <tr>\n",
       "      <th>4</th>\n",
       "      <td>22 Jump Street</td>\n",
       "      <td>6/4/2014</td>\n",
       "      <td>https://en.wikipedia.org/wiki/22_Jump_Street</td>\n",
       "      <td>Action</td>\n",
       "      <td>Phil Lord</td>\n",
       "      <td>Chris Miller</td>\n",
       "      <td>Channing Tatum</td>\n",
       "      <td>Jonah Hill</td>\n",
       "      <td>Ice Cube</td>\n",
       "      <td>NaN</td>\n",
       "      <td>NaN</td>\n",
       "      <td>NaN</td>\n",
       "      <td>331300000</td>\n",
       "      <td>0.979472</td>\n",
       "    </tr>\n",
       "  </tbody>\n",
       "</table>\n",
       "</div>"
      ],
      "text/plain": [
       "                                 Movie Title Release Date   \n",
       "0                        10 Cloverfield Lane     3/8/2016  \\\n",
       "1  13 Hours: The Secret Soldiers of Benghazi    1/15/2016   \n",
       "2                                     2 Guns     8/2/2013   \n",
       "3                             21 Jump Street    3/16/2012   \n",
       "4                             22 Jump Street     6/4/2014   \n",
       "\n",
       "                                       Wikipedia URL     Genre   \n",
       "0  https://en.wikipedia.org/wiki/10_Cloverfield_Lane  Thriller  \\\n",
       "1  https://en.wikipedia.org/wiki/13_Hours:_The_Se...    Action   \n",
       "2               https://en.wikipedia.org/wiki/2_Guns    Action   \n",
       "3  https://en.wikipedia.org/wiki/21_Jump_Street_(...    Comedy   \n",
       "4       https://en.wikipedia.org/wiki/22_Jump_Street    Action   \n",
       "\n",
       "        Director (1)  Director (2)                 Cast (1)   \n",
       "0   Dan Trachtenberg           NaN  Mary Elizabeth Winstead  \\\n",
       "1        Michael Bay           NaN         James Badge Dale   \n",
       "2  Baltasar Kormákur           NaN            Mark Wahlberg   \n",
       "3          Phil Lord  Chris Miller               Jonah Hill   \n",
       "4          Phil Lord  Chris Miller           Channing Tatum   \n",
       "\n",
       "            Cast (2)        Cast (3)         Cast (4)  Cast(5)  Budget   \n",
       "0       John Goodman  John Gallagher              NaN      NaN     NaN  \\\n",
       "1     John Krasinski   Toby Stephens  Pablo Schreiber      NaN     NaN   \n",
       "2  Denzel Washington    Paula Patton      Bill Paxton      NaN     NaN   \n",
       "3     Channing Tatum        Ice Cube      Brie Larson      NaN     NaN   \n",
       "4         Jonah Hill        Ice Cube              NaN      NaN     NaN   \n",
       "\n",
       "     Revenue  z_score_revenue  \n",
       "0  108300000        -0.238608  \n",
       "1   69400000        -0.451089  \n",
       "2  131900000        -0.109699  \n",
       "3  201500000         0.270473  \n",
       "4  331300000         0.979472  "
      ]
     },
     "execution_count": 65,
     "metadata": {},
     "output_type": "execute_result"
    }
   ],
   "source": [
    "# Compute the z-score for every revenue value, and add a column named z_score in the data to store those results.\n",
    "movie_df[\"z_score_revenue\"] = stats.zscore(movie_df[\"Revenue\"])\n",
    "\n",
    "# Display the first 5 rows to ensure that the new column was added.\n",
    "movie_df.head()"
   ]
  },
  {
   "cell_type": "code",
   "execution_count": 66,
   "id": "e8b4508f-7234-4860-b407-d901efd9a26e",
   "metadata": {
    "tags": []
   },
   "outputs": [
    {
     "data": {
      "text/html": [
       "<div>\n",
       "<style scoped>\n",
       "    .dataframe tbody tr th:only-of-type {\n",
       "        vertical-align: middle;\n",
       "    }\n",
       "\n",
       "    .dataframe tbody tr th {\n",
       "        vertical-align: top;\n",
       "    }\n",
       "\n",
       "    .dataframe thead th {\n",
       "        text-align: right;\n",
       "    }\n",
       "</style>\n",
       "<table border=\"1\" class=\"dataframe\">\n",
       "  <thead>\n",
       "    <tr style=\"text-align: right;\">\n",
       "      <th></th>\n",
       "      <th>Movie Title</th>\n",
       "      <th>Release Date</th>\n",
       "      <th>Wikipedia URL</th>\n",
       "      <th>Genre</th>\n",
       "      <th>Director (1)</th>\n",
       "      <th>Director (2)</th>\n",
       "      <th>Cast (1)</th>\n",
       "      <th>Cast (2)</th>\n",
       "      <th>Cast (3)</th>\n",
       "      <th>Cast (4)</th>\n",
       "      <th>Cast(5)</th>\n",
       "      <th>Budget</th>\n",
       "      <th>Revenue</th>\n",
       "      <th>z_score_revenue</th>\n",
       "    </tr>\n",
       "  </thead>\n",
       "  <tbody>\n",
       "    <tr>\n",
       "      <th>35</th>\n",
       "      <td>Batman v Superman: Dawn of Justice</td>\n",
       "      <td>3/19/2016</td>\n",
       "      <td>https://en.wikipedia.org/wiki/Batman_v_Superma...</td>\n",
       "      <td>Action</td>\n",
       "      <td>Zack Snyder</td>\n",
       "      <td>NaN</td>\n",
       "      <td>Ben Affleck</td>\n",
       "      <td>Henry Cavill</td>\n",
       "      <td>Amy Adams</td>\n",
       "      <td>Jesse Eisenberg</td>\n",
       "      <td>NaN</td>\n",
       "      <td>NaN</td>\n",
       "      <td>872700000</td>\n",
       "      <td>3.936729</td>\n",
       "    </tr>\n",
       "    <tr>\n",
       "      <th>56</th>\n",
       "      <td>Captain America: The Winter Soldier</td>\n",
       "      <td>3/13/2014</td>\n",
       "      <td>https://en.wikipedia.org/wiki/Captain_America:...</td>\n",
       "      <td>Action</td>\n",
       "      <td>Anthony Russo</td>\n",
       "      <td>Joe Russo</td>\n",
       "      <td>Chris Evans</td>\n",
       "      <td>Scarlett Johansson</td>\n",
       "      <td>Sebastian Stan</td>\n",
       "      <td>Anthony Mackie</td>\n",
       "      <td>NaN</td>\n",
       "      <td>NaN</td>\n",
       "      <td>714400000</td>\n",
       "      <td>3.072057</td>\n",
       "    </tr>\n",
       "    <tr>\n",
       "      <th>77</th>\n",
       "      <td>Dawn of the Planet of the Apes</td>\n",
       "      <td>6/26/2014</td>\n",
       "      <td>https://en.wikipedia.org/wiki/Dawn_of_the_Plan...</td>\n",
       "      <td>Action</td>\n",
       "      <td>Matt Reeves</td>\n",
       "      <td>NaN</td>\n",
       "      <td>Andy Serkis</td>\n",
       "      <td>Gary Oldman</td>\n",
       "      <td>Jason Clarke</td>\n",
       "      <td>Kodi Smit-McPhee</td>\n",
       "      <td>NaN</td>\n",
       "      <td>NaN</td>\n",
       "      <td>710600000</td>\n",
       "      <td>3.051300</td>\n",
       "    </tr>\n",
       "    <tr>\n",
       "      <th>79</th>\n",
       "      <td>Deadpool</td>\n",
       "      <td>2/8/2016</td>\n",
       "      <td>https://en.wikipedia.org/wiki/Deadpool_(film)</td>\n",
       "      <td>Action</td>\n",
       "      <td>Tim Miller</td>\n",
       "      <td>NaN</td>\n",
       "      <td>Ryan Reynolds</td>\n",
       "      <td>Gina Carano</td>\n",
       "      <td>T. J. Miller</td>\n",
       "      <td>Ed Skrein</td>\n",
       "      <td>NaN</td>\n",
       "      <td>NaN</td>\n",
       "      <td>782600000</td>\n",
       "      <td>3.444581</td>\n",
       "    </tr>\n",
       "    <tr>\n",
       "      <th>82</th>\n",
       "      <td>Despicable Me 2</td>\n",
       "      <td>6/20/2013</td>\n",
       "      <td>https://en.wikipedia.org/wiki/Despicable_Me_2</td>\n",
       "      <td>Comedy</td>\n",
       "      <td>Chris Renaud</td>\n",
       "      <td>Pierre Coffin</td>\n",
       "      <td>Steve Carell</td>\n",
       "      <td>Kristen Wiig</td>\n",
       "      <td>Miranda Cosgrove</td>\n",
       "      <td>Dana Gaier</td>\n",
       "      <td>NaN</td>\n",
       "      <td>NaN</td>\n",
       "      <td>970800000</td>\n",
       "      <td>4.472575</td>\n",
       "    </tr>\n",
       "    <tr>\n",
       "      <th>108</th>\n",
       "      <td>Fast &amp; Furious 6</td>\n",
       "      <td>5/17/2013</td>\n",
       "      <td>https://en.wikipedia.org/wiki/Fast_%2526_Furio...</td>\n",
       "      <td>Action</td>\n",
       "      <td>Justin Lin</td>\n",
       "      <td>NaN</td>\n",
       "      <td>Vin Diesel</td>\n",
       "      <td>Dwayne Johnson</td>\n",
       "      <td>Paul Walker</td>\n",
       "      <td>Michelle Rodriguez</td>\n",
       "      <td>NaN</td>\n",
       "      <td>NaN</td>\n",
       "      <td>788700000</td>\n",
       "      <td>3.477901</td>\n",
       "    </tr>\n",
       "    <tr>\n",
       "      <th>148</th>\n",
       "      <td>Ice Age: Continental Drift</td>\n",
       "      <td>7/13/2012</td>\n",
       "      <td>https://en.wikipedia.org/wiki/Ice_Age:_Contine...</td>\n",
       "      <td>Adventure</td>\n",
       "      <td>Steve Martino</td>\n",
       "      <td>Mike Thurmeier</td>\n",
       "      <td>Ray Romano</td>\n",
       "      <td>John Leguizamo</td>\n",
       "      <td>Denis Leary</td>\n",
       "      <td>Queen Latifah</td>\n",
       "      <td>NaN</td>\n",
       "      <td>NaN</td>\n",
       "      <td>877000000</td>\n",
       "      <td>3.960217</td>\n",
       "    </tr>\n",
       "    <tr>\n",
       "      <th>191</th>\n",
       "      <td>Madagascar 3: Europe's Most Wanted</td>\n",
       "      <td>6/8/2012</td>\n",
       "      <td>https://en.wikipedia.org/wiki/Madagascar_3:_Eu...</td>\n",
       "      <td>Comedy</td>\n",
       "      <td>Eric Darnell</td>\n",
       "      <td>NaN</td>\n",
       "      <td>Noah Baumbach(screenplay); Ben Stiller</td>\n",
       "      <td>Chris Rock</td>\n",
       "      <td>David Schwimmer</td>\n",
       "      <td>Jada Pinkett Smith</td>\n",
       "      <td>NaN</td>\n",
       "      <td>NaN</td>\n",
       "      <td>746900000</td>\n",
       "      <td>3.249579</td>\n",
       "    </tr>\n",
       "    <tr>\n",
       "      <th>336</th>\n",
       "      <td>The Amazing Spider-Man</td>\n",
       "      <td>7/3/2012</td>\n",
       "      <td>https://en.wikipedia.org/wiki/The_Amazing_Spid...</td>\n",
       "      <td>Action</td>\n",
       "      <td>Marc Webb</td>\n",
       "      <td>NaN</td>\n",
       "      <td>Andrew Garfield</td>\n",
       "      <td>Emma Stone</td>\n",
       "      <td>Max Charles</td>\n",
       "      <td>Martin Sheen</td>\n",
       "      <td>NaN</td>\n",
       "      <td>NaN</td>\n",
       "      <td>757900000</td>\n",
       "      <td>3.309664</td>\n",
       "    </tr>\n",
       "    <tr>\n",
       "      <th>380</th>\n",
       "      <td>The Hobbit: The Battle of the Five Armies</td>\n",
       "      <td>12/1/2014</td>\n",
       "      <td>https://en.wikipedia.org/wiki/The_Hobbit:_The_...</td>\n",
       "      <td>Adventure</td>\n",
       "      <td>Peter Jackson</td>\n",
       "      <td>NaN</td>\n",
       "      <td>Ian McKellen</td>\n",
       "      <td>Martin Freeman</td>\n",
       "      <td>Richard Armitage</td>\n",
       "      <td>Evangeline Lilly</td>\n",
       "      <td>NaN</td>\n",
       "      <td>NaN</td>\n",
       "      <td>956000000</td>\n",
       "      <td>4.391734</td>\n",
       "    </tr>\n",
       "    <tr>\n",
       "      <th>384</th>\n",
       "      <td>The Hunger Games: Mockingjay – Part 1</td>\n",
       "      <td>11/10/2014</td>\n",
       "      <td>https://en.wikipedia.org/wiki/The_Hunger_Games...</td>\n",
       "      <td>Sci-Fi</td>\n",
       "      <td>Francis Lawrence</td>\n",
       "      <td>NaN</td>\n",
       "      <td>Jennifer Lawrence</td>\n",
       "      <td>Josh Hutcherson</td>\n",
       "      <td>Woody Harrelson</td>\n",
       "      <td>Julianne Moore</td>\n",
       "      <td>NaN</td>\n",
       "      <td>NaN</td>\n",
       "      <td>755400000</td>\n",
       "      <td>3.296008</td>\n",
       "    </tr>\n",
       "    <tr>\n",
       "      <th>435</th>\n",
       "      <td>The Secret Life of Pets</td>\n",
       "      <td>7/8/2016</td>\n",
       "      <td>https://en.wikipedia.org/wiki/The_Secret_Life_...</td>\n",
       "      <td>Adventure</td>\n",
       "      <td>Chris Renaud</td>\n",
       "      <td>Yarrow Cheney</td>\n",
       "      <td>Louis C.K.</td>\n",
       "      <td>Eric Stonestreet</td>\n",
       "      <td>Kevin Hart</td>\n",
       "      <td>Albert Brooks</td>\n",
       "      <td>NaN</td>\n",
       "      <td>NaN</td>\n",
       "      <td>724900000</td>\n",
       "      <td>3.129410</td>\n",
       "    </tr>\n",
       "    <tr>\n",
       "      <th>447</th>\n",
       "      <td>The Twilight Saga: Breaking Dawn – Part 2</td>\n",
       "      <td>11/16/2012</td>\n",
       "      <td>https://en.wikipedia.org/wiki/The_Twilight_Sag...</td>\n",
       "      <td>Fantasy</td>\n",
       "      <td>Bill Condon</td>\n",
       "      <td>NaN</td>\n",
       "      <td>Kristen Stewart</td>\n",
       "      <td>Robert Pattinson</td>\n",
       "      <td>Michael Sheen</td>\n",
       "      <td>Mackenzie Foy</td>\n",
       "      <td>NaN</td>\n",
       "      <td>NaN</td>\n",
       "      <td>829700000</td>\n",
       "      <td>3.701853</td>\n",
       "    </tr>\n",
       "    <tr>\n",
       "      <th>503</th>\n",
       "      <td>X-Men: Days of Future Past</td>\n",
       "      <td>5/10/2014</td>\n",
       "      <td>https://en.wikipedia.org/wiki/X-Men:_Days_of_F...</td>\n",
       "      <td>Action</td>\n",
       "      <td>Bryan Singer</td>\n",
       "      <td>NaN</td>\n",
       "      <td>Hugh Jackman</td>\n",
       "      <td>James McAvoy</td>\n",
       "      <td>Michael Fassbender</td>\n",
       "      <td>Halle Berry</td>\n",
       "      <td>NaN</td>\n",
       "      <td>NaN</td>\n",
       "      <td>747900000</td>\n",
       "      <td>3.255042</td>\n",
       "    </tr>\n",
       "  </tbody>\n",
       "</table>\n",
       "</div>"
      ],
      "text/plain": [
       "                                   Movie Title Release Date   \n",
       "35          Batman v Superman: Dawn of Justice    3/19/2016  \\\n",
       "56         Captain America: The Winter Soldier    3/13/2014   \n",
       "77              Dawn of the Planet of the Apes    6/26/2014   \n",
       "79                                    Deadpool     2/8/2016   \n",
       "82                             Despicable Me 2    6/20/2013   \n",
       "108                           Fast & Furious 6    5/17/2013   \n",
       "148                 Ice Age: Continental Drift    7/13/2012   \n",
       "191         Madagascar 3: Europe's Most Wanted     6/8/2012   \n",
       "336                     The Amazing Spider-Man     7/3/2012   \n",
       "380  The Hobbit: The Battle of the Five Armies    12/1/2014   \n",
       "384      The Hunger Games: Mockingjay – Part 1   11/10/2014   \n",
       "435                    The Secret Life of Pets     7/8/2016   \n",
       "447  The Twilight Saga: Breaking Dawn – Part 2   11/16/2012   \n",
       "503                 X-Men: Days of Future Past    5/10/2014   \n",
       "\n",
       "                                         Wikipedia URL      Genre   \n",
       "35   https://en.wikipedia.org/wiki/Batman_v_Superma...     Action  \\\n",
       "56   https://en.wikipedia.org/wiki/Captain_America:...     Action   \n",
       "77   https://en.wikipedia.org/wiki/Dawn_of_the_Plan...     Action   \n",
       "79       https://en.wikipedia.org/wiki/Deadpool_(film)     Action   \n",
       "82       https://en.wikipedia.org/wiki/Despicable_Me_2     Comedy   \n",
       "108  https://en.wikipedia.org/wiki/Fast_%2526_Furio...     Action   \n",
       "148  https://en.wikipedia.org/wiki/Ice_Age:_Contine...  Adventure   \n",
       "191  https://en.wikipedia.org/wiki/Madagascar_3:_Eu...     Comedy   \n",
       "336  https://en.wikipedia.org/wiki/The_Amazing_Spid...     Action   \n",
       "380  https://en.wikipedia.org/wiki/The_Hobbit:_The_...  Adventure   \n",
       "384  https://en.wikipedia.org/wiki/The_Hunger_Games...     Sci-Fi   \n",
       "435  https://en.wikipedia.org/wiki/The_Secret_Life_...  Adventure   \n",
       "447  https://en.wikipedia.org/wiki/The_Twilight_Sag...    Fantasy   \n",
       "503  https://en.wikipedia.org/wiki/X-Men:_Days_of_F...     Action   \n",
       "\n",
       "         Director (1)    Director (2)                                Cast (1)   \n",
       "35        Zack Snyder             NaN                             Ben Affleck  \\\n",
       "56      Anthony Russo       Joe Russo                             Chris Evans   \n",
       "77        Matt Reeves             NaN                             Andy Serkis   \n",
       "79         Tim Miller             NaN                           Ryan Reynolds   \n",
       "82       Chris Renaud   Pierre Coffin                            Steve Carell   \n",
       "108        Justin Lin             NaN                              Vin Diesel   \n",
       "148     Steve Martino  Mike Thurmeier                              Ray Romano   \n",
       "191      Eric Darnell             NaN  Noah Baumbach(screenplay); Ben Stiller   \n",
       "336         Marc Webb             NaN                         Andrew Garfield   \n",
       "380     Peter Jackson             NaN                            Ian McKellen   \n",
       "384  Francis Lawrence             NaN                       Jennifer Lawrence   \n",
       "435      Chris Renaud   Yarrow Cheney                              Louis C.K.   \n",
       "447       Bill Condon             NaN                         Kristen Stewart   \n",
       "503      Bryan Singer             NaN                            Hugh Jackman   \n",
       "\n",
       "               Cast (2)            Cast (3)            Cast (4)  Cast(5)   \n",
       "35         Henry Cavill           Amy Adams     Jesse Eisenberg      NaN  \\\n",
       "56   Scarlett Johansson      Sebastian Stan      Anthony Mackie      NaN   \n",
       "77          Gary Oldman        Jason Clarke    Kodi Smit-McPhee      NaN   \n",
       "79          Gina Carano        T. J. Miller           Ed Skrein      NaN   \n",
       "82         Kristen Wiig    Miranda Cosgrove          Dana Gaier      NaN   \n",
       "108      Dwayne Johnson         Paul Walker  Michelle Rodriguez      NaN   \n",
       "148      John Leguizamo         Denis Leary       Queen Latifah      NaN   \n",
       "191          Chris Rock     David Schwimmer  Jada Pinkett Smith      NaN   \n",
       "336          Emma Stone         Max Charles        Martin Sheen      NaN   \n",
       "380      Martin Freeman    Richard Armitage    Evangeline Lilly      NaN   \n",
       "384     Josh Hutcherson     Woody Harrelson      Julianne Moore      NaN   \n",
       "435    Eric Stonestreet          Kevin Hart       Albert Brooks      NaN   \n",
       "447    Robert Pattinson       Michael Sheen       Mackenzie Foy      NaN   \n",
       "503        James McAvoy  Michael Fassbender         Halle Berry      NaN   \n",
       "\n",
       "     Budget    Revenue  z_score_revenue  \n",
       "35      NaN  872700000         3.936729  \n",
       "56      NaN  714400000         3.072057  \n",
       "77      NaN  710600000         3.051300  \n",
       "79      NaN  782600000         3.444581  \n",
       "82      NaN  970800000         4.472575  \n",
       "108     NaN  788700000         3.477901  \n",
       "148     NaN  877000000         3.960217  \n",
       "191     NaN  746900000         3.249579  \n",
       "336     NaN  757900000         3.309664  \n",
       "380     NaN  956000000         4.391734  \n",
       "384     NaN  755400000         3.296008  \n",
       "435     NaN  724900000         3.129410  \n",
       "447     NaN  829700000         3.701853  \n",
       "503     NaN  747900000         3.255042  "
      ]
     },
     "execution_count": 66,
     "metadata": {},
     "output_type": "execute_result"
    }
   ],
   "source": [
    "# Display data where `revenue` is above or below 3 standard deviations of the mean\n",
    "\n",
    "movie_df[(movie_df[\"z_score_revenue\"] > 3) | (movie_df[\"z_score_revenue\"] < -3)]"
   ]
  },
  {
   "cell_type": "markdown",
   "id": "a0894765-07cd-4d89-a24c-8b6fa7f8ca0d",
   "metadata": {},
   "source": [
    "Now this list involves all movies that have made revenue that is more than 3 standard deviations above the mean, meaning these movies did amazing at the box office."
   ]
  },
  {
   "cell_type": "markdown",
   "id": "6db3056d-71d3-42e1-a971-93517041f9f8",
   "metadata": {},
   "source": [
    "Note on outliers:\n",
    "    Detecting outliers is important because they can reveal two important things, depending on the context: First, they can identify measurements that were taken incorrectly. Second, they can highlight parts of the data that can be focused on to make improvements."
   ]
  }
 ],
 "metadata": {
  "kernelspec": {
   "display_name": "Python 3 (ipykernel)",
   "language": "python",
   "name": "python3"
  },
  "language_info": {
   "codemirror_mode": {
    "name": "ipython",
    "version": 3
   },
   "file_extension": ".py",
   "mimetype": "text/x-python",
   "name": "python",
   "nbconvert_exporter": "python",
   "pygments_lexer": "ipython3",
   "version": "3.11.3"
  }
 },
 "nbformat": 4,
 "nbformat_minor": 5
}
